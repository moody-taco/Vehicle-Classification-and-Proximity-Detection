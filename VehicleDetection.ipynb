{
 "cells": [
  {
   "cell_type": "markdown",
   "metadata": {},
   "source": [
    "# Import Dependencies"
   ]
  },
  {
   "cell_type": "code",
   "execution_count": 1,
   "metadata": {},
   "outputs": [],
   "source": [
    "from ultralytics import YOLO\n",
    "from ultralytics.utils.plotting import Annotator\n",
    "import tkinter as tk\n",
    "from tkinter import messagebox\n",
    "import cv2\n",
    "import numpy as np\n",
    "import math\n",
    "import os"
   ]
  },
  {
   "cell_type": "markdown",
   "metadata": {},
   "source": [
    "# Function to calculate the distance between two bounding boxes"
   ]
  },
  {
   "cell_type": "code",
   "execution_count": 2,
   "metadata": {},
   "outputs": [],
   "source": [
    "# Distance between 2 bounding boxes\n",
    "def calculate_distance(box1, box2):\n",
    "    # Extract coordinates from each bounding box\n",
    "    x1, y1, _, _ = box1\n",
    "    x2, y2, _, _ = box2\n",
    "\n",
    "    # Calculate Euclidean distance between the centers of the bounding boxes\n",
    "    distance = math.sqrt((x1 - x2)**2 + (y1 - y2)**2)\n",
    "    \n",
    "    return distance"
   ]
  },
  {
   "cell_type": "markdown",
   "metadata": {},
   "source": [
    "# Function to calculate the area of the bounding box"
   ]
  },
  {
   "cell_type": "code",
   "execution_count": 3,
   "metadata": {},
   "outputs": [],
   "source": [
    "from bbox import BBox2D\n",
    "def calculate_area(box):\n",
    "    x1, y1, x2, y2 = box\n",
    "    return (math.dist([x1, y2], [x1, y1]) * math.dist([x1, y2], [x2, y2]))"
   ]
  },
  {
   "cell_type": "markdown",
   "metadata": {},
   "source": [
    "# Function to print the warning"
   ]
  },
  {
   "cell_type": "code",
   "execution_count": 4,
   "metadata": {},
   "outputs": [],
   "source": [
    "def wrn_msg():\n",
    "    root = tk.Tk()\n",
    "    root.withdraw()\n",
    "    messagebox.showinfo(\"Warning\", \"Too Close!\")"
   ]
  },
  {
   "cell_type": "code",
   "execution_count": 5,
   "metadata": {},
   "outputs": [],
   "source": [
    "def wrn_msg2():\n",
    "    root = tk.Tk()\n",
    "    root.withdraw()\n",
    "    messagebox.showinfo(\"Warning\", \"Slow down!\")"
   ]
  },
  {
   "cell_type": "markdown",
   "metadata": {},
   "source": [
    "# Using a YOLOv8 model"
   ]
  },
  {
   "cell_type": "code",
   "execution_count": 6,
   "metadata": {},
   "outputs": [],
   "source": [
    "# Get the pre-trained YOLOv8n model\n",
    "model = YOLO('yolov8n.pt')"
   ]
  },
  {
   "cell_type": "markdown",
   "metadata": {},
   "source": [
    "# Using OpenCV to read the frames and perform object detection"
   ]
  },
  {
   "cell_type": "code",
   "execution_count": 7,
   "metadata": {},
   "outputs": [
    {
     "name": "stdout",
     "output_type": "stream",
     "text": [
      "\n",
      "0: 384x640 1 car, 1 truck, 215.1ms\n",
      "Speed: 8.0ms preprocess, 215.1ms inference, 7.4ms postprocess per image at shape (1, 3, 384, 640)\n",
      "Results saved to \u001b[1mruns\\detect\\predict2\u001b[0m\n",
      "\n",
      "0: 384x640 1 car, 1 truck, 119.0ms\n",
      "Speed: 6.0ms preprocess, 119.0ms inference, 2.0ms postprocess per image at shape (1, 3, 384, 640)\n",
      "Results saved to \u001b[1mruns\\detect\\predict2\u001b[0m\n",
      "\n",
      "0: 384x640 1 car, 1 truck, 168.0ms\n",
      "Speed: 5.0ms preprocess, 168.0ms inference, 2.0ms postprocess per image at shape (1, 3, 384, 640)\n",
      "Results saved to \u001b[1mruns\\detect\\predict2\u001b[0m\n",
      "\n",
      "0: 384x640 2 cars, 1 truck, 114.0ms\n",
      "Speed: 5.0ms preprocess, 114.0ms inference, 1.0ms postprocess per image at shape (1, 3, 384, 640)\n",
      "Results saved to \u001b[1mruns\\detect\\predict2\u001b[0m\n",
      "\n",
      "0: 384x640 1 car, 1 bus, 91.0ms\n",
      "Speed: 5.0ms preprocess, 91.0ms inference, 2.0ms postprocess per image at shape (1, 3, 384, 640)\n",
      "Results saved to \u001b[1mruns\\detect\\predict2\u001b[0m\n",
      "\n",
      "0: 384x640 1 car, 2 trucks, 118.0ms\n",
      "Speed: 3.0ms preprocess, 118.0ms inference, 2.0ms postprocess per image at shape (1, 3, 384, 640)\n",
      "Results saved to \u001b[1mruns\\detect\\predict2\u001b[0m\n",
      "\n",
      "0: 384x640 1 car, 1 truck, 110.0ms\n",
      "Speed: 3.0ms preprocess, 110.0ms inference, 1.0ms postprocess per image at shape (1, 3, 384, 640)\n",
      "Results saved to \u001b[1mruns\\detect\\predict2\u001b[0m\n",
      "\n",
      "0: 384x640 2 cars, 2 trucks, 120.0ms\n",
      "Speed: 5.0ms preprocess, 120.0ms inference, 2.0ms postprocess per image at shape (1, 3, 384, 640)\n",
      "Results saved to \u001b[1mruns\\detect\\predict2\u001b[0m\n",
      "\n",
      "0: 384x640 2 cars, 1 truck, 117.0ms\n",
      "Speed: 2.0ms preprocess, 117.0ms inference, 2.0ms postprocess per image at shape (1, 3, 384, 640)\n",
      "Results saved to \u001b[1mruns\\detect\\predict2\u001b[0m\n",
      "\n",
      "0: 384x640 2 cars, 1 truck, 152.5ms\n",
      "Speed: 2.0ms preprocess, 152.5ms inference, 1.0ms postprocess per image at shape (1, 3, 384, 640)\n",
      "Results saved to \u001b[1mruns\\detect\\predict2\u001b[0m\n",
      "\n",
      "0: 384x640 2 cars, 1 truck, 101.0ms\n",
      "Speed: 3.0ms preprocess, 101.0ms inference, 2.0ms postprocess per image at shape (1, 3, 384, 640)\n",
      "Results saved to \u001b[1mruns\\detect\\predict2\u001b[0m\n",
      "\n",
      "0: 384x640 2 cars, 1 truck, 106.0ms\n",
      "Speed: 2.0ms preprocess, 106.0ms inference, 2.0ms postprocess per image at shape (1, 3, 384, 640)\n",
      "Results saved to \u001b[1mruns\\detect\\predict2\u001b[0m\n",
      "\n",
      "0: 384x640 2 cars, 1 truck, 113.0ms\n",
      "Speed: 5.0ms preprocess, 113.0ms inference, 1.0ms postprocess per image at shape (1, 3, 384, 640)\n",
      "Results saved to \u001b[1mruns\\detect\\predict2\u001b[0m\n",
      "\n",
      "0: 384x640 2 cars, 1 truck, 118.0ms\n",
      "Speed: 14.0ms preprocess, 118.0ms inference, 1.0ms postprocess per image at shape (1, 3, 384, 640)\n",
      "Results saved to \u001b[1mruns\\detect\\predict2\u001b[0m\n",
      "\n",
      "0: 384x640 2 cars, 1 truck, 120.5ms\n",
      "Speed: 13.0ms preprocess, 120.5ms inference, 2.0ms postprocess per image at shape (1, 3, 384, 640)\n",
      "Results saved to \u001b[1mruns\\detect\\predict2\u001b[0m\n",
      "\n",
      "0: 384x640 2 cars, 1 truck, 116.0ms\n",
      "Speed: 9.0ms preprocess, 116.0ms inference, 2.0ms postprocess per image at shape (1, 3, 384, 640)\n",
      "Results saved to \u001b[1mruns\\detect\\predict2\u001b[0m\n",
      "\n",
      "0: 384x640 2 cars, 1 truck, 123.0ms\n",
      "Speed: 8.0ms preprocess, 123.0ms inference, 1.0ms postprocess per image at shape (1, 3, 384, 640)\n",
      "Results saved to \u001b[1mruns\\detect\\predict2\u001b[0m\n",
      "\n",
      "0: 384x640 2 cars, 1 truck, 130.0ms\n",
      "Speed: 5.0ms preprocess, 130.0ms inference, 2.0ms postprocess per image at shape (1, 3, 384, 640)\n",
      "Results saved to \u001b[1mruns\\detect\\predict2\u001b[0m\n",
      "\n",
      "0: 384x640 2 cars, 1 truck, 136.0ms\n",
      "Speed: 5.0ms preprocess, 136.0ms inference, 2.0ms postprocess per image at shape (1, 3, 384, 640)\n",
      "Results saved to \u001b[1mruns\\detect\\predict2\u001b[0m\n",
      "\n",
      "0: 384x640 2 cars, 1 truck, 119.0ms\n",
      "Speed: 4.0ms preprocess, 119.0ms inference, 1.0ms postprocess per image at shape (1, 3, 384, 640)\n",
      "Results saved to \u001b[1mruns\\detect\\predict2\u001b[0m\n",
      "\n",
      "0: 384x640 2 cars, 1 truck, 124.0ms\n",
      "Speed: 5.0ms preprocess, 124.0ms inference, 2.0ms postprocess per image at shape (1, 3, 384, 640)\n",
      "Results saved to \u001b[1mruns\\detect\\predict2\u001b[0m\n",
      "\n",
      "0: 384x640 2 cars, 1 truck, 121.0ms\n",
      "Speed: 10.0ms preprocess, 121.0ms inference, 2.0ms postprocess per image at shape (1, 3, 384, 640)\n",
      "Results saved to \u001b[1mruns\\detect\\predict2\u001b[0m\n"
     ]
    }
   ],
   "source": [
    "# Import Video\n",
    "cap = cv2.VideoCapture(os.path.join('Input', 'Video1.mp4'))\n",
    "\n",
    "# Detection for each frame \n",
    "for frame_index in range(int(cap.get(cv2.CAP_PROP_FRAME_COUNT))):\n",
    "    ret, frame = cap.read()\n",
    "    results = model.predict(frame, save=True, conf = 0.5, classes = [0, 1, 2, 3, 5, 6, 7])\n",
    "    for r in results:\n",
    "        annotator = Annotator(frame)\n",
    "        m = 0\n",
    "        for box in r.boxes:\n",
    "            b = box.xyxy[0]  # get box coordinates in (left, top, right, bottom) format\n",
    "            c = box.cls\n",
    "            m+=1\n",
    "            annotator.box_label(b, model.names[int(c)])\n",
    "\n",
    "        mat = np.zeros((m, m))\n",
    "        res = frame.shape[0] * frame.shape[1]\n",
    "        areas = []\n",
    "        x, y = 0, 0\n",
    "        for i in r.boxes:\n",
    "            box1 = i.xyxy[0]\n",
    "            y = 0\n",
    "            areas.append(calculate_area(box1))\n",
    "            for j in r.boxes:\n",
    "                box2 = j.xyxy[0]\n",
    "                dist = calculate_distance(box1, box2)\n",
    "                mat[x][y] = dist\n",
    "                y+=1\n",
    "            x+=1\n",
    "\n",
    "    imag = annotator.result()\n",
    "    \n",
    "    # Checking the distance between the cars\n",
    "    d = [d for row in mat for d in row]\n",
    "    \n",
    "    # Displaying the video\n",
    "    cv2.imshow('YOLO V8 Detection', imag) \n",
    "\n",
    "    for x in d:\n",
    "        if x < 50:\n",
    "            if x != 0:\n",
    "                wrn_msg()\n",
    "                break\n",
    "\n",
    "    for area in areas:\n",
    "        if (area/res) > 0.1:\n",
    "            wrn_msg2()\n",
    "            areas = []\n",
    "            break\n",
    "\n",
    "\n",
    "    if cv2.waitKey(1) & 0xFF == ord('q'):\n",
    "        break\n",
    "\n",
    "cap.release()\n",
    "cv2.destroyAllWindows()"
   ]
  }
 ],
 "metadata": {
  "kernelspec": {
   "display_name": "Python 3",
   "language": "python",
   "name": "python3"
  },
  "language_info": {
   "codemirror_mode": {
    "name": "ipython",
    "version": 3
   },
   "file_extension": ".py",
   "mimetype": "text/x-python",
   "name": "python",
   "nbconvert_exporter": "python",
   "pygments_lexer": "ipython3",
   "version": "3.8.10"
  }
 },
 "nbformat": 4,
 "nbformat_minor": 2
}
